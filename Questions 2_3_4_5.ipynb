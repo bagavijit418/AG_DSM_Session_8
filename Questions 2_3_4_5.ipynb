{
 "cells": [
  {
   "cell_type": "raw",
   "metadata": {},
   "source": [
    "2) Create a DatetimeIndex that contains each business day of 2015 and use it to index a\n",
    "Series of random numbers.\n",
    "\n",
    "3) Find the sum of the values in s for every Wednesday\n",
    "\n",
    "4) Average For each calendar month\n",
    "\n",
    "5) For each group of four consecutive calendar months in s, find the date on which the\n",
    "highest value occurred.\n"
   ]
  },
  {
   "cell_type": "code",
   "execution_count": 1,
   "metadata": {},
   "outputs": [],
   "source": [
    "import pandas as pd\n",
    "import numpy as np\n",
    "from datetime import timedelta,date,datetime"
   ]
  },
  {
   "cell_type": "code",
   "execution_count": 2,
   "metadata": {},
   "outputs": [],
   "source": [
    "def daterange(date1, date2):\n",
    "    for n in range(int ((date2 - date1).days)+1):\n",
    "        yield date1 + timedelta(n)"
   ]
  },
  {
   "cell_type": "code",
   "execution_count": 3,
   "metadata": {},
   "outputs": [],
   "source": [
    "dates=[]\n",
    "start_dt = date(2015, 1, 1)\n",
    "end_dt = date(2015, 12, 31)\n",
    "for dt in daterange(start_dt, end_dt):\n",
    "    dates.append(dt)"
   ]
  },
  {
   "cell_type": "code",
   "execution_count": 4,
   "metadata": {},
   "outputs": [],
   "source": [
    "weekdays=[dt for dt in dates if dt.strftime('%a') not in ['Sat','Sun']]"
   ]
  },
  {
   "cell_type": "code",
   "execution_count": 5,
   "metadata": {},
   "outputs": [],
   "source": [
    "random_data=np.random.randn(len(weekdays))"
   ]
  },
  {
   "cell_type": "code",
   "execution_count": 6,
   "metadata": {},
   "outputs": [],
   "source": [
    "s=pd.Series(data=random_data,index=pd.DatetimeIndex(weekdays))"
   ]
  },
  {
   "cell_type": "code",
   "execution_count": 7,
   "metadata": {},
   "outputs": [
    {
     "data": {
      "text/plain": [
       "2015-01-01    1.715841\n",
       "2015-01-02   -0.579849\n",
       "2015-01-05    0.590411\n",
       "2015-01-06   -1.301833\n",
       "2015-01-07   -2.070036\n",
       "2015-01-08   -0.511443\n",
       "2015-01-09   -1.040425\n",
       "2015-01-12    0.817689\n",
       "2015-01-13   -0.077821\n",
       "2015-01-14    1.552872\n",
       "2015-01-15    2.051685\n",
       "2015-01-16   -0.793781\n",
       "2015-01-19   -0.655960\n",
       "2015-01-20    0.926930\n",
       "2015-01-21    0.401536\n",
       "2015-01-22   -0.049596\n",
       "2015-01-23   -0.316957\n",
       "2015-01-26   -0.423627\n",
       "2015-01-27   -1.515834\n",
       "2015-01-28    0.296999\n",
       "2015-01-29    0.126742\n",
       "2015-01-30   -0.064751\n",
       "2015-02-02   -0.093199\n",
       "2015-02-03    0.347044\n",
       "2015-02-04    0.249573\n",
       "2015-02-05   -2.271772\n",
       "2015-02-06   -0.853800\n",
       "2015-02-09   -1.309674\n",
       "2015-02-10   -0.582810\n",
       "2015-02-11    0.562781\n",
       "                ...   \n",
       "2015-11-20    0.374924\n",
       "2015-11-23   -0.909415\n",
       "2015-11-24    2.519995\n",
       "2015-11-25    0.275419\n",
       "2015-11-26   -0.119853\n",
       "2015-11-27   -1.159886\n",
       "2015-11-30   -0.082861\n",
       "2015-12-01   -0.120456\n",
       "2015-12-02    0.790994\n",
       "2015-12-03    0.146180\n",
       "2015-12-04    1.378931\n",
       "2015-12-07    0.897876\n",
       "2015-12-08    0.714678\n",
       "2015-12-09   -0.690624\n",
       "2015-12-10    0.509130\n",
       "2015-12-11    0.822401\n",
       "2015-12-14    0.789596\n",
       "2015-12-15   -0.530727\n",
       "2015-12-16   -0.579956\n",
       "2015-12-17    0.661547\n",
       "2015-12-18   -0.767825\n",
       "2015-12-21   -0.965523\n",
       "2015-12-22    0.474074\n",
       "2015-12-23    0.497743\n",
       "2015-12-24   -0.630120\n",
       "2015-12-25   -1.366335\n",
       "2015-12-28    1.756341\n",
       "2015-12-29   -1.475942\n",
       "2015-12-30   -0.976514\n",
       "2015-12-31    0.409045\n",
       "Length: 261, dtype: float64"
      ]
     },
     "execution_count": 7,
     "metadata": {},
     "output_type": "execute_result"
    }
   ],
   "source": [
    "s"
   ]
  },
  {
   "cell_type": "code",
   "execution_count": 8,
   "metadata": {},
   "outputs": [],
   "source": [
    "df=pd.DataFrame(s,columns=[\"Value\"])"
   ]
  },
  {
   "cell_type": "code",
   "execution_count": 9,
   "metadata": {},
   "outputs": [],
   "source": [
    "df[\"WeekDay\"] =df.index.strftime('%A')"
   ]
  },
  {
   "cell_type": "code",
   "execution_count": 10,
   "metadata": {},
   "outputs": [
    {
     "name": "stdout",
     "output_type": "stream",
     "text": [
      "('Sum of value in S for every Wednesday:   ', 8.112919671937004)\n"
     ]
    }
   ],
   "source": [
    "print('Sum of value in S for every Wednesday:   ',sum(df[df[\"WeekDay\"]=='Wednesday']['Value']))"
   ]
  },
  {
   "cell_type": "code",
   "execution_count": 11,
   "metadata": {},
   "outputs": [],
   "source": [
    "df[\"Month\"]=df.index.strftime('%B')"
   ]
  },
  {
   "cell_type": "code",
   "execution_count": 12,
   "metadata": {},
   "outputs": [
    {
     "name": "stdout",
     "output_type": "stream",
     "text": [
      "Average For each calendar month\n"
     ]
    },
    {
     "data": {
      "text/html": [
       "<div>\n",
       "<style scoped>\n",
       "    .dataframe tbody tr th:only-of-type {\n",
       "        vertical-align: middle;\n",
       "    }\n",
       "\n",
       "    .dataframe tbody tr th {\n",
       "        vertical-align: top;\n",
       "    }\n",
       "\n",
       "    .dataframe thead th {\n",
       "        text-align: right;\n",
       "    }\n",
       "</style>\n",
       "<table border=\"1\" class=\"dataframe\">\n",
       "  <thead>\n",
       "    <tr style=\"text-align: right;\">\n",
       "      <th></th>\n",
       "      <th>Value</th>\n",
       "    </tr>\n",
       "    <tr>\n",
       "      <th>Month</th>\n",
       "      <th></th>\n",
       "    </tr>\n",
       "  </thead>\n",
       "  <tbody>\n",
       "    <tr>\n",
       "      <th>April</th>\n",
       "      <td>0.015885</td>\n",
       "    </tr>\n",
       "    <tr>\n",
       "      <th>August</th>\n",
       "      <td>-0.244680</td>\n",
       "    </tr>\n",
       "    <tr>\n",
       "      <th>December</th>\n",
       "      <td>0.075848</td>\n",
       "    </tr>\n",
       "    <tr>\n",
       "      <th>February</th>\n",
       "      <td>-0.389610</td>\n",
       "    </tr>\n",
       "    <tr>\n",
       "      <th>January</th>\n",
       "      <td>-0.041873</td>\n",
       "    </tr>\n",
       "    <tr>\n",
       "      <th>July</th>\n",
       "      <td>-0.157964</td>\n",
       "    </tr>\n",
       "    <tr>\n",
       "      <th>June</th>\n",
       "      <td>0.377711</td>\n",
       "    </tr>\n",
       "    <tr>\n",
       "      <th>March</th>\n",
       "      <td>-0.179735</td>\n",
       "    </tr>\n",
       "    <tr>\n",
       "      <th>May</th>\n",
       "      <td>0.402021</td>\n",
       "    </tr>\n",
       "    <tr>\n",
       "      <th>November</th>\n",
       "      <td>-0.160955</td>\n",
       "    </tr>\n",
       "    <tr>\n",
       "      <th>October</th>\n",
       "      <td>0.049984</td>\n",
       "    </tr>\n",
       "    <tr>\n",
       "      <th>September</th>\n",
       "      <td>0.256261</td>\n",
       "    </tr>\n",
       "  </tbody>\n",
       "</table>\n",
       "</div>"
      ],
      "text/plain": [
       "              Value\n",
       "Month              \n",
       "April      0.015885\n",
       "August    -0.244680\n",
       "December   0.075848\n",
       "February  -0.389610\n",
       "January   -0.041873\n",
       "July      -0.157964\n",
       "June       0.377711\n",
       "March     -0.179735\n",
       "May        0.402021\n",
       "November  -0.160955\n",
       "October    0.049984\n",
       "September  0.256261"
      ]
     },
     "execution_count": 12,
     "metadata": {},
     "output_type": "execute_result"
    }
   ],
   "source": [
    "print(\"Average For each calendar month\")\n",
    "df.groupby('Month')[['Value']].mean()"
   ]
  },
  {
   "cell_type": "code",
   "execution_count": 13,
   "metadata": {},
   "outputs": [
    {
     "name": "stdout",
     "output_type": "stream",
     "text": [
      "For each group of four consecutive calendar months in s, find the date on which the highest value occurred\n"
     ]
    },
    {
     "data": {
      "text/html": [
       "<div>\n",
       "<style scoped>\n",
       "    .dataframe tbody tr th:only-of-type {\n",
       "        vertical-align: middle;\n",
       "    }\n",
       "\n",
       "    .dataframe tbody tr th {\n",
       "        vertical-align: top;\n",
       "    }\n",
       "\n",
       "    .dataframe thead th {\n",
       "        text-align: right;\n",
       "    }\n",
       "</style>\n",
       "<table border=\"1\" class=\"dataframe\">\n",
       "  <thead>\n",
       "    <tr style=\"text-align: right;\">\n",
       "      <th></th>\n",
       "      <th>Value</th>\n",
       "    </tr>\n",
       "  </thead>\n",
       "  <tbody>\n",
       "    <tr>\n",
       "      <th>2015-01-31</th>\n",
       "      <td>2.051685</td>\n",
       "    </tr>\n",
       "    <tr>\n",
       "      <th>2015-05-31</th>\n",
       "      <td>3.804267</td>\n",
       "    </tr>\n",
       "    <tr>\n",
       "      <th>2015-09-30</th>\n",
       "      <td>2.203968</td>\n",
       "    </tr>\n",
       "    <tr>\n",
       "      <th>2016-01-31</th>\n",
       "      <td>2.519995</td>\n",
       "    </tr>\n",
       "  </tbody>\n",
       "</table>\n",
       "</div>"
      ],
      "text/plain": [
       "               Value\n",
       "2015-01-31  2.051685\n",
       "2015-05-31  3.804267\n",
       "2015-09-30  2.203968\n",
       "2016-01-31  2.519995"
      ]
     },
     "execution_count": 13,
     "metadata": {},
     "output_type": "execute_result"
    }
   ],
   "source": [
    "print(\"For each group of four consecutive calendar months in s, find the date on which the highest value occurred\")\n",
    "df.groupby(pd.Grouper(freq='4M'))[[\"Value\"]].max()"
   ]
  },
  {
   "cell_type": "code",
   "execution_count": null,
   "metadata": {},
   "outputs": [],
   "source": []
  }
 ],
 "metadata": {
  "kernelspec": {
   "display_name": "Python 2",
   "language": "python",
   "name": "python2"
  },
  "language_info": {
   "codemirror_mode": {
    "name": "ipython",
    "version": 2
   },
   "file_extension": ".py",
   "mimetype": "text/x-python",
   "name": "python",
   "nbconvert_exporter": "python",
   "pygments_lexer": "ipython2",
   "version": "2.7.15"
  }
 },
 "nbformat": 4,
 "nbformat_minor": 2
}
